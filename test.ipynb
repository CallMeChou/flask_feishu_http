{
 "cells": [
  {
   "cell_type": "code",
   "execution_count": 4,
   "metadata": {},
   "outputs": [],
   "source": [
    "import os\n",
    "import pymysql\n",
    "def datebase_test():\n",
    "    #打开数据库连接\n",
    "    db=pymysql.connect(host=os.environ.get('MYSQLHOST'),port=int(os.environ.get('MYSQLPORT')),user=os.environ.get('MYSQLUSER'),password=os.environ.get('MYSQLPASSWORD'),database=os.environ.get('MYSQLDATABASE'))\n",
    "    \n",
    "    #使用cursor()方法获取操作游标 \n",
    "    cursor = db.cursor()\n",
    "    #sql语句\n",
    "    sql = \"select * from test\"\n",
    "    try:\n",
    "        #执行sql语句\n",
    "        cursor.execute(sql)\n",
    "        #查询中的一个操作，获取所有记录\n",
    "        result = cursor.fetchall()\n",
    "        #打印表数据\n",
    "        for row in result:\n",
    "            id = row[0]\n",
    "            name = row[1]\n",
    "            age = row[2]\n",
    "            print(id,name,age)\n",
    "    except:\n",
    "        print(\"Error!\")\n",
    "    #关闭数据库\n",
    "    db.close()\n"
   ]
  },
  {
   "cell_type": "code",
   "execution_count": 2,
   "metadata": {},
   "outputs": [
    {
     "data": {
      "text/plain": [
       "'www.db4free.net'"
      ]
     },
     "execution_count": 2,
     "metadata": {},
     "output_type": "execute_result"
    }
   ],
   "source": [
    "os.environ.get('MYSQLHOST')"
   ]
  },
  {
   "cell_type": "code",
   "execution_count": 5,
   "metadata": {},
   "outputs": [
    {
     "name": "stdout",
     "output_type": "stream",
     "text": [
      "1 test1 22\n"
     ]
    }
   ],
   "source": [
    "datebase_test()"
   ]
  },
  {
   "cell_type": "code",
   "execution_count": null,
   "metadata": {},
   "outputs": [],
   "source": []
  }
 ],
 "metadata": {
  "kernelspec": {
   "display_name": "base",
   "language": "python",
   "name": "python3"
  },
  "language_info": {
   "codemirror_mode": {
    "name": "ipython",
    "version": 3
   },
   "file_extension": ".py",
   "mimetype": "text/x-python",
   "name": "python",
   "nbconvert_exporter": "python",
   "pygments_lexer": "ipython3",
   "version": "3.9.13"
  },
  "orig_nbformat": 4,
  "vscode": {
   "interpreter": {
    "hash": "a04f5d07b0747026a8fbcdf50b9443318e69b1b8bd6247d88bfadb4789282972"
   }
  }
 },
 "nbformat": 4,
 "nbformat_minor": 2
}
